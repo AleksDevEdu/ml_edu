{
 "cells": [
  {
   "cell_type": "markdown",
   "metadata": {},
   "source": [
    "# Обучающие ноутбуки по Machine Learning"
   ]
  },
  {
   "cell_type": "markdown",
   "metadata": {},
   "source": [
    "Привет! В этом курсе ты найдешь материалы для изучения основ по Машинному обучению."
   ]
  },
  {
   "cell_type": "markdown",
   "metadata": {},
   "source": [
    "## Содержание курса"
   ]
  },
  {
   "cell_type": "markdown",
   "metadata": {},
   "source": [
    "\n",
    "### Базовые практики\n",
    "\n",
    "- [00_Python](notebooks/00_Python.ipynb) и [01_Python](notebooks/01_Python.ipynb) - ноутбуки практики по самым-самым основам языка Python;\n",
    "- [02_Numpy](notebooks/02_Numpy.ipynb), [03_Numpy](notebooks/03_Numpy.ipynb) и [04_Numpy](notebooks/04_Numpy.ipynb) - ноутбуки по основным возможностям фреймворка `numpy` (работа с матрицами);\n",
    "- [05_Matplotlib](notebooks/05_Matplotlib.ipynb) - ноутбук по основным возможностям фреймворка `matplotlib` (визуализация данных);\n",
    "- [06_Pandas](notebooks/06_Pandas.ipynb), [07_Pandas](notebooks/07_Pandas.ipynb) и [08_Pandas](notebooks/08_Pandas.ipynb) - ноутбуки по основным возможностям фреймворка `pandas` (работа с табличными данными);\n",
    "- [09_Seaborn](notebooks/09_Seaborn.ipynb) - ноутбук по основным возможностям фреймворка `seaborn` (еще один фреймворк визуализации);\n",
    "\n",
    "### Основные материалы\n",
    "\n",
    "#### Раздел 1 - задача регрессии\n",
    "\n",
    "- [10_Regression](notebooks/11_Regression.ipynb) - познакомьтесь с понятием **задачи регрессии** и попробуйте в первый раз выполнить настоящее предсказание с помощью модели машинного обучения!\n",
    "- [11_Regression](notebooks/11_Regression.ipynb) - двигаемся дальше, узнаем много нового и интересного, что встречается при решении задачи регрессии\n",
    "- [12_Regression](notebooks/12_Regression.ipynb) - еще больше новых приемов и трюков\n",
    "- [13_Regression](notebooks/13_Regression.ipynb) - модельки - это хорошо, но не забывайте про анализ и поготовку данных\n",
    "- [14_HW_Regression](notebooks/14_HW_Regression.ipynb) - ноутбук домашнего задания по теме задачи регрессии; Попробуйте себя в решении задачи определения цены дома! Первый раз работаете с настоящими данными? Не бойтесь - постараемся вместе разобраться с тем, что и как делать!\n",
    "\n",
    "#### Раздел 2 - задача классификации\n",
    "\n",
    "- [20_Classification](notebooks/20_Classification.ipynb) - самое время познакомиться с другой задачей - **задачей классификации**!\n",
    "- [21_Classification](notebooks/21_Classification.ipynb) - ни одно решение не обходится без оценки, узнаем про метрики классификации\n",
    "- [22_Classification](notebooks/22_Classification.ipynb) - еще больше интересных приемов и подходов, не стоим на месте!\n",
    "- [23_Classification](notebooks/23_Classification.ipynb) - расширяем знания методами анализа данных конкретно в отношении задачи классификации\n",
    "- [24_HW_Classification](notebooks/24_HW_Classification.ipynb) - ноутбук домашнего задания по задаче классификации; Пробуем решать ее самостоятельно с применением всех тех приемов, что мы узнали ранее!\n",
    "\n",
    "#### Раздел 3 - дополнительные методы обработки данных\n",
    "\n",
    "- [30_Data_variable_types.ipynb](notebooks/30_Data_variable_types.ipynb) - узнаем, какие типы данных распространены в анализе данных и что с ними делать\n",
    "- [31_ML_Algorithms.ipynb](notebooks/31_ML_Algorithms.ipynb) - больше разных алгоритмов, и это еще малая доля от всех существующих!\n",
    "- [32_Validation.ipynb](notebooks/32_Validation.ipynb) - гиперпараметры играют важную роль, узнаем, что с ними делать\n",
    "- [33_HW_GoDeeper_Titanik.ipynb](notebooks/33_HW_GoDeeper_Titanik.ipynb) - пора применить все накопившиеся знания и решить реальную задачку, чтобы доказать себе, что вы можете это сделать!\n",
    "\n",
    "### Расширенные материалы\n",
    "\n",
    "- [40_NB_Text](notebooks/40_NB_Text.ipynb) - практика по обработке текста; Попробуйте себя в работе с текстовыми данными и узнайте, как же все таки интересно разбираться в том, что пишут \"естественным языком\"!\n",
    "- [41_NeuralNetworks](notebooks/41_NeuralNetworks.ipynb) - наше первое знакомство с нейросетями - смотрим, пробуем!\n",
    "- [42_NeuralNetworks](notebooks/42_NeuralNetworks.ipynb) - продолжаем знакомиться с тем, как создавать свои нейросети - поехали!\n",
    "- [43_CNN](notebooks/42_CNN.ipynb) - после знакомства с нейросетями можно переходить с работе с изображениями - изучаем основы подготовки изображений и решаем простую задачу классификации написанных цифр\n",
    "- [44_HW_CNN](notebooks/43_HW_CNN.ipynb) - самое время использовать новые навыки и разрешить извечный вопрос \"кошечки или собачки?\"\n",
    "- [45_ODetection](notebooks/45_ODetection.ipynb) - не стоит изобретать велосипед, когда вокруг уже так много предобученных нейронных сетей для распознавания объектов\n"
   ]
  }
 ],
 "metadata": {
  "language_info": {
   "name": "python"
  }
 },
 "nbformat": 4,
 "nbformat_minor": 2
}
